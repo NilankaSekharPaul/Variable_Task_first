{
  "nbformat": 4,
  "nbformat_minor": 0,
  "metadata": {
    "colab": {
      "provenance": []
    },
    "kernelspec": {
      "name": "python3",
      "display_name": "Python 3"
    },
    "language_info": {
      "name": "python"
    }
  },
  "cells": [
    {
      "cell_type": "code",
      "execution_count": null,
      "metadata": {
        "colab": {
          "base_uri": "https://localhost:8080/"
        },
        "id": "gbyDDZ1Tw844",
        "outputId": "6c6f5957-0dd4-4f59-f0f1-80a6a33992e1"
      },
      "outputs": [
        {
          "output_type": "stream",
          "name": "stdout",
          "text": [
            "Nilanka Sekhar Paul\n"
          ]
        }
      ],
      "source": [
        "#Question 1: Create a variable to store your name and print it\n",
        "x = \"Nilanka Sekhar Paul\"\n",
        "print(x)"
      ]
    },
    {
      "cell_type": "code",
      "source": [
        "#Question 2: Assign your age to a variable and print it.\n",
        "x = 36\n",
        "print(\"My Age is:-\",x)"
      ],
      "metadata": {
        "colab": {
          "base_uri": "https://localhost:8080/"
        },
        "id": "mzXoOzUYxpOZ",
        "outputId": "dd41000c-3850-4550-e10a-aabeac074872"
      },
      "execution_count": null,
      "outputs": [
        {
          "output_type": "stream",
          "name": "stdout",
          "text": [
            "My Age is:- 36\n"
          ]
        }
      ]
    },
    {
      "cell_type": "code",
      "source": [
        "#Question 3: Create a variable to store the price of an item and another variable to store the quantity. Calculate and print the total cost.\n",
        "price_of_an_item = 100\n",
        "Quantity = 5\n",
        "Total_Item_Cost = price_of_an_item * Quantity\n",
        "print(\"Total Cost of Item is :-\",Total_Item_Cost)"
      ],
      "metadata": {
        "colab": {
          "base_uri": "https://localhost:8080/"
        },
        "id": "oXrHce7nzfWY",
        "outputId": "2585b877-aac1-42b0-cb5a-2dccdd796d91"
      },
      "execution_count": null,
      "outputs": [
        {
          "output_type": "stream",
          "name": "stdout",
          "text": [
            "Total Cost of Item is :- 500\n"
          ]
        }
      ]
    },
    {
      "cell_type": "code",
      "source": [
        "price_of_an_item = int(input(\"Enter the Price of an Item:-\"))\n",
        "Quantity = int(input(\"Enter the Quantity:-\"))\n",
        "Total_Item_Cost = price_of_an_item * Quantity\n",
        "print(\"Total Cost of Item is :-\",Total_Item_Cost)"
      ],
      "metadata": {
        "colab": {
          "base_uri": "https://localhost:8080/"
        },
        "id": "4S_0QYPC2qcm",
        "outputId": "a64f3626-1ff5-4eee-b5a5-77149939f1fc"
      },
      "execution_count": null,
      "outputs": [
        {
          "output_type": "stream",
          "name": "stdout",
          "text": [
            "Enter the Price of an Item:-190\n",
            "Enter the Quantity:-6\n",
            "Total Cost of Item is :- 1140\n"
          ]
        }
      ]
    },
    {
      "cell_type": "code",
      "source": [
        "#Question 4: Store the result of an addition operation (e.g., 5 + 7) in a variable and print the result\n",
        "x = int(input(\"Enter First Value:-\"))\n",
        "y = int(input(\"Enter Second Value:-\"))\n",
        "z = x + y\n",
        "print(\"Summation of\",x,\"and\",y,\"is:-\",z)"
      ],
      "metadata": {
        "colab": {
          "base_uri": "https://localhost:8080/"
        },
        "id": "NgE_w62Z2_a4",
        "outputId": "fae58ef0-4846-4e05-affe-cfbe340f886e"
      },
      "execution_count": null,
      "outputs": [
        {
          "output_type": "stream",
          "name": "stdout",
          "text": [
            "Enter First Value:-5\n",
            "Enter Second Value:-7\n",
            "Summation of 5 and 7 is:- 12\n"
          ]
        }
      ]
    },
    {
      "cell_type": "code",
      "source": [
        "#Question 5: Create two variables, `x` and `y`, and assign them integer values. Swap their values and print both variables\n",
        "x = int(input(\"Enter Value for X:-\"))\n",
        "y = int(input(\"Enter Value for Y:-\"))\n",
        "#Assign a Temporary Variable\n",
        "temp = x\n",
        "x = y\n",
        "y = temp\n",
        "print(\"After Swapping value of x is:=\",x)\n",
        "print(\"After Swapping value of y is:=\",y)"
      ],
      "metadata": {
        "colab": {
          "base_uri": "https://localhost:8080/"
        },
        "id": "omFM1Psc4dDL",
        "outputId": "31b11ec4-922b-433e-82d7-86327f90871c"
      },
      "execution_count": null,
      "outputs": [
        {
          "output_type": "stream",
          "name": "stdout",
          "text": [
            "Enter Value for X:-7\n",
            "Enter Value for Y:-3\n",
            "After Swapping value of x is:= 3\n",
            "After Swapping value of y is:= 7\n"
          ]
        }
      ]
    },
    {
      "cell_type": "code",
      "source": [
        "#Question 6: Create a variable to store your favorite color and print a message including the color (e.g., \"My favorite color is blue\")\n",
        "Favourite_Color = input(\"Enter your Favourite Color:-\")\n",
        "print(\"My Favourite Color is:=\",Favourite_Color)"
      ],
      "metadata": {
        "colab": {
          "base_uri": "https://localhost:8080/"
        },
        "id": "cfoMFJYc6NP5",
        "outputId": "256c33f2-3a64-4130-e3f9-0956afbe8f81"
      },
      "execution_count": null,
      "outputs": [
        {
          "output_type": "stream",
          "name": "stdout",
          "text": [
            "Enter your Favourite Color:-Orange\n",
            "My Favourite Color is:= Orange\n"
          ]
        }
      ]
    },
    {
      "cell_type": "code",
      "source": [
        "#Question 7 : Assign a boolean value to a variable indicating whether you are a student (`True` or `False`). Print the value of the variable."
      ],
      "metadata": {
        "id": "i5z5cNj57B9S"
      },
      "execution_count": null,
      "outputs": []
    },
    {
      "cell_type": "code",
      "source": [
        "#Question 8 : Store a decimal number in a variable and print it rounded to two decimal places.\n",
        "Decimal_no = float(input(\"Enter a Decimal Number:-\"))\n",
        "Rounded_No = Decimal_no - Decimal_no % 0.01\n",
        "print(\"The Result is:=\",Rounded_No)"
      ],
      "metadata": {
        "colab": {
          "base_uri": "https://localhost:8080/"
        },
        "id": "F0jOZLgkJ-Aq",
        "outputId": "45237b52-0e15-475d-c9f5-01b24633c69d"
      },
      "execution_count": null,
      "outputs": [
        {
          "output_type": "stream",
          "name": "stdout",
          "text": [
            "Enter a Decimal Number:-7.48965\n",
            "The Result is:= 7.48\n"
          ]
        }
      ]
    },
    {
      "cell_type": "code",
      "source": [
        "#Question 9 : Create a variable to store your height in meters and another variable to store your weight in kilograms. Print a message that includes both values (e.g., \"Height: 1.75 meters, Weight: 70 kg\").\n",
        "the_height = float(input(\"Enter the height in cm: \"))\n",
        "the_weight = float(input(\"Enter the weight in kg: \"))\n",
        "real_weight = int(the_weight)\n",
        "print(\"Height is:\",the_height,\"Weight is:\",real_weight)"
      ],
      "metadata": {
        "colab": {
          "base_uri": "https://localhost:8080/"
        },
        "id": "nglsgwRBMVbr",
        "outputId": "56766dbe-3cc3-459e-b296-0049f6583134"
      },
      "execution_count": null,
      "outputs": [
        {
          "output_type": "stream",
          "name": "stdout",
          "text": [
            "Enter the height in cm: 2.76\n",
            "Enter the weight in kg: 87\n",
            "Height is: 2.76 Weight is: 87\n"
          ]
        }
      ]
    },
    {
      "cell_type": "code",
      "source": [
        "#Question 10 : Create a variable to store a greeting message, and then concatenate it with another message to form a full sentence. Print the full sentence\n",
        "Greet1 = \"Hey Hi How are you\"\n",
        "Greet2 = \"What are you doing now\"\n",
        "Concatenated_greet = Greet1 + \", \" + Greet2\n",
        "print(\"Full Sentence is:-\",Concatenated_greet)"
      ],
      "metadata": {
        "colab": {
          "base_uri": "https://localhost:8080/"
        },
        "id": "030Uy4NcZ9xX",
        "outputId": "c97a7ade-ee2d-4740-82f4-0fe638abfc36"
      },
      "execution_count": null,
      "outputs": [
        {
          "output_type": "stream",
          "name": "stdout",
          "text": [
            "Full Sentence is:- Hey Hi How are you, What are you doing now\n"
          ]
        }
      ]
    },
    {
      "cell_type": "code",
      "source": [
        "Greet1 = input(\"Enter Greet1:-\")\n",
        "Greet2 = input(\"Enter Greet2:-\")\n",
        "Concatenated_greet = Greet1 + \", \" + Greet2\n",
        "print(\"Full Sentence is:-\",Concatenated_greet)"
      ],
      "metadata": {
        "colab": {
          "base_uri": "https://localhost:8080/"
        },
        "id": "qB6KlqXqauaW",
        "outputId": "ccaccfc4-db74-4aac-ccfd-bbb57f8bccaf"
      },
      "execution_count": null,
      "outputs": [
        {
          "output_type": "stream",
          "name": "stdout",
          "text": [
            "Enter Greet1:-Hey Hi \n",
            "Enter Greet2:-How are you\n",
            "Full Sentence is:- Hey Hi , How are you\n"
          ]
        }
      ]
    }
  ]
}